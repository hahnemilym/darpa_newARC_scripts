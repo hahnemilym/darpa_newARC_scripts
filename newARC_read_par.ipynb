{
 "cells": [
  {
   "cell_type": "code",
   "execution_count": null,
   "metadata": {
    "ExecuteTime": {
     "end_time": "2018-07-26T19:37:32.872760Z",
     "start_time": "2018-07-26T19:37:32.285010Z"
    },
    "collapsed": true
   },
   "outputs": [],
   "source": [
    "import glob\n",
    "import os,sys\n",
    "import fnmatch\n",
    "import csv\n",
    "import numpy as np\n",
    "import pandas as pd"
   ]
  },
  {
   "cell_type": "code",
   "execution_count": null,
   "metadata": {
    "ExecuteTime": {
     "end_time": "2018-07-26T19:37:32.881525Z",
     "start_time": "2018-07-26T19:37:32.874649Z"
    }
   },
   "outputs": [],
   "source": [
    "subjects=['hc001']\n",
    "fsdir='msit_001'\n",
    "session='001'\n",
    "\n",
    "for sub in subjects:\n",
    "    path = '/autofs/space/lilli_004/users/DARPA-MSIT/%s/%s/%s' % (sub,fsdir,session)   \n",
    "    for file in os.listdir(path):\n",
    "        if fnmatch.fnmatch(file, 'msit_I-C.par'):\n",
    "            parpath=os.path.join(path,file)\n",
    "            print(parpath)"
   ]
  },
  {
   "cell_type": "code",
   "execution_count": null,
   "metadata": {
    "ExecuteTime": {
     "end_time": "2018-07-26T19:37:32.897019Z",
     "start_time": "2018-07-26T19:37:32.883290Z"
    }
   },
   "outputs": [],
   "source": [
    "dir = []\n",
    "\n",
    "par = parpath\n",
    "\n",
    "df=pd.read_csv(par)\n",
    "df=pd.DataFrame.from_records(df,index=None)\n",
    "\n",
    "cond =[]\n",
    "\n",
    "with open(par,'r') as par:\n",
    "    for line in par:\n",
    "        if 'IC' in line:\n",
    "            cond.append('C')\n",
    "        elif 'CC' in line:\n",
    "            cond.append('C')\n",
    "        elif 'CI' in line:\n",
    "            cond.append('I')\n",
    "        elif 'II' in line:\n",
    "            cond.append('I')\n",
    "            \n",
    "print len(cond)"
   ]
  },
  {
   "cell_type": "code",
   "execution_count": null,
   "metadata": {
    "collapsed": true
   },
   "outputs": [],
   "source": []
  }
 ],
 "metadata": {
  "kernelspec": {
   "display_name": "Python 2",
   "language": "python",
   "name": "python2"
  },
  "language_info": {
   "codemirror_mode": {
    "name": "ipython",
    "version": 2
   },
   "file_extension": ".py",
   "mimetype": "text/x-python",
   "name": "python",
   "nbconvert_exporter": "python",
   "pygments_lexer": "ipython2",
   "version": "2.7.13"
  },
  "toc": {
   "colors": {
    "hover_highlight": "#DAA520",
    "navigate_num": "#000000",
    "navigate_text": "#333333",
    "running_highlight": "#FF0000",
    "selected_highlight": "#FFD700",
    "sidebar_border": "#EEEEEE",
    "wrapper_background": "#FFFFFF"
   },
   "moveMenuLeft": true,
   "nav_menu": {
    "height": "12px",
    "width": "252px"
   },
   "navigate_menu": true,
   "number_sections": true,
   "sideBar": true,
   "threshold": 4,
   "toc_cell": false,
   "toc_section_display": "block",
   "toc_window_display": false,
   "widenNotebook": false
  }
 },
 "nbformat": 4,
 "nbformat_minor": 2
}
