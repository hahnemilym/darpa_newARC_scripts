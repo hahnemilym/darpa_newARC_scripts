{
 "cells": [
  {
   "cell_type": "markdown",
   "metadata": {},
   "source": [
    "## Convert *existing* paradigm (PsychToolbox input) into FreeSurfer-friendly .par files"
   ]
  },
  {
   "cell_type": "code",
   "execution_count": null,
   "metadata": {
    "ExecuteTime": {
     "end_time": "2019-02-24T04:45:46.624827Z",
     "start_time": "2019-02-24T04:45:45.900554Z"
    },
    "scrolled": true
   },
   "outputs": [],
   "source": [
    "import os\n",
    "import pandas as pd\n",
    "import numpy as np\n",
    "\n",
    "behav_dir='/autofs/space/lilli_001/users/DARPA-newARC/behavior/params'\n",
    "par_path='/autofs/space/lilli_001/users/DARPA-newARC/behavior/params/optseq'\n",
    "\n",
    "df = pd.read_csv(os.path.join(par_path,'mri_newarc.csv'),index_col=False)\n",
    "df=pd.DataFrame(df)\n",
    "\n",
    "ConflictType=[]\n",
    "ITI=[]\n",
    "Reward=[]\n",
    "Risk=[]\n",
    "Trial=[]\n",
    "Conflict=[]\n",
    "## Replace Slope with log reg results\n",
    "Slope=np.zeros(2*len(df))\n",
    "\n",
    "\n",
    "for i in df.ConflictType:\n",
    "    ConflictType.append('NULL     ')\n",
    "    ConflictType.append(i)\n",
    "    \n",
    "for i in df.ITI:\n",
    "    ITI.append(i) \n",
    "    ITI.append(5.25)\n",
    "\n",
    "Time=[0]\n",
    "s=0\n",
    "\n",
    "for i in ITI:\n",
    "    s=s+i\n",
    "    Time.append(s)\n",
    "\n",
    "Time=Time[:-1]\n",
    "\n",
    "for ct in zip(ConflictType):\n",
    "    if 'lowconflict' in ct:\n",
    "        Conflict.append('1')\n",
    "    elif 'medconflict' in ct:\n",
    "        Conflict.append('2')\n",
    "    elif 'highconflict' in ct:\n",
    "        Conflict.append('3')\n",
    "    elif 'NULL     ' in ct:\n",
    "        Conflict.append('0')\n",
    "    else: \n",
    "        print ct\n",
    "\n",
    "df2_data={'Time':Time,'Conflict':Conflict,'ITI':ITI,'Slope':Slope,'ConflictType':ConflictType}\n",
    "df2=pd.DataFrame(df2_data)\n",
    "\n",
    "# print len(df2_data['Time'])\n",
    "# print len(df2_data['Conflict'])\n",
    "# print len(df2_data['ITI'])\n",
    "# print len(df2_data['Slope'])\n",
    "# print len(df2_data['ConflictType'])\n",
    "\n",
    "trial_1 = pd.DataFrame(df2.iloc[0:162])\n",
    "trial_2 = pd.DataFrame(df2.iloc[162:324])\n",
    "trial_3 = pd.DataFrame(df2.iloc[324::])\n",
    "\n",
    "trial_1.to_csv(os.path.join(par_path,'3cond_mod-001.csv'),index=False)\n",
    "trial_2.to_csv(os.path.join(par_path,'3cond_mod-002.csv'),index=False)\n",
    "trial_3.to_csv(os.path.join(par_path,'3cond_mod-003.csv'),index=False)\n",
    "df2.to_csv(os.path.join(par_path,'3cond_mod-AllRuns.csv'),index=False)"
   ]
  },
  {
   "cell_type": "markdown",
   "metadata": {
    "collapsed": true
   },
   "source": [
    "## Configure files to be FreeSurfer Compatible"
   ]
  },
  {
   "cell_type": "code",
   "execution_count": null,
   "metadata": {
    "ExecuteTime": {
     "end_time": "2019-02-24T04:46:53.118343Z",
     "start_time": "2019-02-24T04:46:52.583625Z"
    }
   },
   "outputs": [],
   "source": [
    "import os\n",
    "import pandas as pd\n",
    "import numpy as np\n",
    "\n",
    "bdir='/autofs/space/lilli_001/users/DARPA-newARC/behavior/behav_runs'\n",
    "indiv_par_path='/autofs/space/lilli_001/users/DARPA-newARC/behavior/indiv_par_files'\n",
    "par_path='/autofs/space/lilli_001/users/DARPA-newARC/behavior/params/optseq'\n",
    "\n",
    "# subjects = ['newARC_001','newARC_004','newARC_005','newARC_008',\\\n",
    "#             'newARC_009','newARC_010','newARC_011','newARC_014',\\\n",
    "#             'newARC_015','newARC_016','newARC_017','newARC_018',\\\n",
    "#             'newARC_020']\n",
    "\n",
    "subjects = ['newARC_001','newARC_004','newARC_005','newARC_008',\\\n",
    "            'newARC_009','newARC_010','newARC_011','newARC_014',\\\n",
    "            'newARC_015','newARC_016','newARC_017','newARC_018']\n",
    "\n",
    "for subject in subjects:\n",
    "    csv=os.path.join(bdir,'%s_run_1.csv' % subject)\n",
    "    onsets=[]\n",
    "    df=pd.DataFrame.from_csv(csv)\n",
    "    for fix_on,rew_on in zip(df['FixOnset'],df['RewardOnset']):\n",
    "        onsets.append(fix_on)\n",
    "        onsets.append(rew_on)\n",
    "    run1=os.path.join(par_path,'3cond_mod-001.csv')\n",
    "    df1=pd.read_csv(run1)\n",
    "    df1=pd.DataFrame(df1,columns=['Time','Conflict','ITI','Slope','ConflictType'])\n",
    "    df1['Time'] = onsets\n",
    "    display(df1)\n",
    "        \n",
    "    trial_1.to_csv(os.path.join(indiv_par_path,'%s_run1.par'% subject),sep='\\t',index=False,header=None)"
   ]
  },
  {
   "cell_type": "markdown",
   "metadata": {},
   "source": [
    "## Concatenate par files"
   ]
  },
  {
   "cell_type": "code",
   "execution_count": null,
   "metadata": {
    "collapsed": true
   },
   "outputs": [],
   "source": []
  }
 ],
 "metadata": {
  "kernelspec": {
   "display_name": "Python 2",
   "language": "python",
   "name": "python2"
  },
  "language_info": {
   "codemirror_mode": {
    "name": "ipython",
    "version": 2
   },
   "file_extension": ".py",
   "mimetype": "text/x-python",
   "name": "python",
   "nbconvert_exporter": "python",
   "pygments_lexer": "ipython2",
   "version": "2.7.15"
  },
  "toc": {
   "colors": {
    "hover_highlight": "#DAA520",
    "navigate_num": "#000000",
    "navigate_text": "#333333",
    "running_highlight": "#FF0000",
    "selected_highlight": "#FFD700",
    "sidebar_border": "#EEEEEE",
    "wrapper_background": "#FFFFFF"
   },
   "moveMenuLeft": true,
   "nav_menu": {
    "height": "45px",
    "width": "252px"
   },
   "navigate_menu": true,
   "number_sections": true,
   "sideBar": true,
   "threshold": 4,
   "toc_cell": false,
   "toc_section_display": "block",
   "toc_window_display": false,
   "widenNotebook": false
  }
 },
 "nbformat": 4,
 "nbformat_minor": 2
}
