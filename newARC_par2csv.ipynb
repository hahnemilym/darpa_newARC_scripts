{
 "cells": [
  {
   "cell_type": "markdown",
   "metadata": {},
   "source": [
    "## .par to .csv"
   ]
  },
  {
   "cell_type": "code",
   "execution_count": null,
   "metadata": {},
   "outputs": [],
   "source": [
    "import csv\n",
    "import os\n",
    "import numpy as np\n",
    "import pandas as pd"
   ]
  },
  {
   "cell_type": "code",
   "execution_count": null,
   "metadata": {},
   "outputs": [],
   "source": [
    "###----------------------------------###\n",
    "\n",
    "###  Revise as needed - beta version ###\n",
    "###  Modify to fit other fMRI tasks  ###\n",
    "###  .par files generated from       ### \n",
    "###  Optseq in FreeSurfer 6          ###\n",
    "\n",
    "###----------------------------------###\n",
    "\n",
    "dir = []\n",
    "\n",
    "par = os.path.join(dir, '3cond-001.par')\n",
    "\n",
    "df = []\n",
    "\n",
    "def par_to_csv(par,df,output):\n",
    "    df=pd.read_csv(par)\n",
    "    df=pd.DataFrame(df)\n",
    "    \n",
    "    time=[]\n",
    "    trial=[]\n",
    "    conflictype=[]\n",
    "    ITI=[]\n",
    "    conflict=[]\n",
    "    iti_collapsed=[]\n",
    "\n",
    "    with open(par,'r') as par:\n",
    "        for line in par:\n",
    "            c=str(line).split('    ')\n",
    "            conflict.append(str(c[3].strip()) or 'NULL')\n",
    "            time.append(c[0]) \n",
    "            conflictype.append(c[1])   \n",
    "            ITI.append(c[2][:5])\n",
    "            trial.append(c[2][5:])\n",
    "\n",
    "    df=pd.DataFrame.from_dict({'Trial':trial,'Time':time,\\\n",
    "    'ConflictType':conflict,'ITI':ITI})\n",
    "\n",
    "    for i in df['ITI']:\n",
    "        iti_collapsed.append(i)\n",
    "    \n",
    "    iti_collapsed=iti_collapsed[1::2] \n",
    "    \n",
    "    df=df.drop(df.index[1::2])\n",
    "    df['ITI']=iti_collapsed\n",
    "        \n",
    "    df.to_csv('%s_optseq_trials.csv' % output)\n",
    "        \n",
    "    return\n",
    "\n",
    "# convert .par to .csv\n",
    "par_to_csv(par,df,'3cond-001')"
   ]
  },
  {
   "cell_type": "code",
   "execution_count": null,
   "metadata": {},
   "outputs": [],
   "source": []
  },
  {
   "cell_type": "code",
   "execution_count": null,
   "metadata": {},
   "outputs": [],
   "source": []
  }
 ],
 "metadata": {
  "kernelspec": {
   "display_name": "Python 2",
   "language": "python",
   "name": "python2"
  },
  "language_info": {
   "codemirror_mode": {
    "name": "ipython",
    "version": 2
   },
   "file_extension": ".py",
   "mimetype": "text/x-python",
   "name": "python",
   "nbconvert_exporter": "python",
   "pygments_lexer": "ipython2",
   "version": "2.7.13"
  }
 },
 "nbformat": 4,
 "nbformat_minor": 2
}
