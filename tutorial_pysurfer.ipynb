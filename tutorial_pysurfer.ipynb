{
 "cells": [
  {
   "cell_type": "raw",
   "metadata": {},
   "source": [
    "In the following script, we'll demonstrate how to visualize cortical fmri activation using Pysurfer (https://pysurfer.github.io/). \n",
    "\n",
    "The sample cortical activation maps used in the tutorial were created using Freesurfer's FsFast pipeline. \n",
    "\n",
    "When visualizing activation maps on the cortex you have the option of choosing between different: \n",
    "    - hemispheres: left, right\n",
    "    - views: lateral, medial\n",
    "    - surface: inflated, pial, smoothwm\n",
    "    \n",
    "After running the script below, examine the image files that are created to get a sense of the different surfaces and views. \n",
    "\n",
    "For Pysurfer examples see: https://pysurfer.github.io/examples/index.html"
   ]
  },
  {
   "cell_type": "markdown",
   "metadata": {},
   "source": [
    "# Visualize fMRI cortical activation"
   ]
  },
  {
   "cell_type": "code",
   "execution_count": 5,
   "metadata": {
    "ExecuteTime": {
     "end_time": "2017-04-18T12:51:41.992614",
     "start_time": "2017-04-18T12:51:24.080979"
    }
   },
   "outputs": [],
   "source": [
    "import os \n",
    "from surfer import Brain\n",
    "%matplotlib qt4\n",
    "\n",
    "##~~~~~~~~~~~~~~~~~~~~~~~~~~~~~~~~~##\n",
    "### Specify parameters. \n",
    "##~~~~~~~~~~~~~~~~~~~~~~~~~~~~~~~~~##\n",
    "\n",
    "data_dir = 'data'\n",
    "save_dir = 'images'\n",
    "\n",
    "##~~~~~~~~~~~~~~~~~~~~~~~~~~~~~~~~~##\n",
    "### Visualize cortical activation. \n",
    "##~~~~~~~~~~~~~~~~~~~~~~~~~~~~~~~~~##\n",
    "\n",
    "## Iterate through left and right hemispheres. \n",
    "for hemi in ['lh','rh']:\n",
    "    \n",
    "    ## Get list of activation maps for given hemisphere. \n",
    "    files = [f for f in os.listdir(data_dir) if hemi in f]\n",
    "    \n",
    "    ## Iterate through each file in list\n",
    "    for fn in files:\n",
    "\n",
    "        ## Iterate through medial and lateral views of the cortical hemisphere. \n",
    "        for view in ['medial','lateral']: \n",
    "            \n",
    "            ## Specify which surface to display activation. \n",
    "            for surface in ['inflated','pial','smoothwm']:\n",
    "\n",
    "                ## Bring up the visualization window with the fsaverage brain and specified hemisphere, surface and view.\n",
    "                ## This will bring up a visualization window. \n",
    "                brain = Brain('fsaverage',hemi,surface,views=view)\n",
    "                \n",
    "                ## Specify overlay file with fMRI activation. \n",
    "                overlay_file = os.path.join(data_dir,fn)\n",
    "                \n",
    "                ## Display the overlay on the specified surface with specified thresholds. \n",
    "                ## Note that for FsFast activation maps, 1.3 corresponds to p-value of 0.05 (take -log10(p-value) to arrive at the corresponding threshold)\n",
    "                brain.add_overlay(overlay_file, min=1.3, max=10.0, sign='abs')\n",
    "                \n",
    "                ## Save displayed image as png in the specified directory.\n",
    "                ## When saving, make sure the visualization with is not occluded by other objects on your screen. \n",
    "                brain.save_image(os.path.join(save_dir, '%s.%s.%s.png' %('.'.join(fn.split('.')[:-1]),view,surface)))"
   ]
  }
 ],
 "metadata": {
  "anaconda-cloud": {},
  "hide_input": false,
  "kernelspec": {
   "display_name": "Python 2",
   "language": "python",
   "name": "python2"
  },
  "language_info": {
   "codemirror_mode": {
    "name": "ipython",
    "version": 2
   },
   "file_extension": ".py",
   "mimetype": "text/x-python",
   "name": "python",
   "nbconvert_exporter": "python",
   "pygments_lexer": "ipython2",
   "version": "2.7.13"
  },
  "nav_menu": {},
  "toc": {
   "colors": {
    "hover_highlight": "#DAA520",
    "navigate_num": "#000000",
    "navigate_text": "#333333",
    "running_highlight": "#FF0000",
    "selected_highlight": "#FFD700",
    "sidebar_border": "#EEEEEE",
    "wrapper_background": "#FFFFFF"
   },
   "moveMenuLeft": true,
   "nav_menu": {
    "height": "28px",
    "width": "250px"
   },
   "navigate_menu": true,
   "number_sections": true,
   "sideBar": true,
   "threshold": 4,
   "toc_cell": false,
   "toc_section_display": "block",
   "toc_window_display": false,
   "widenNotebook": false
  }
 },
 "nbformat": 4,
 "nbformat_minor": 1
}
