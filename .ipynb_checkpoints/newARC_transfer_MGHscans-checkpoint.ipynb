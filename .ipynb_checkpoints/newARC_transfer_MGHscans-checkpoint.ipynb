{
 "cells": [
  {
   "cell_type": "code",
   "execution_count": 1,
   "metadata": {
    "ExecuteTime": {
     "end_time": "2019-01-22T02:21:15.477643Z",
     "start_time": "2019-01-22T02:21:14.856765Z"
    },
    "collapsed": true
   },
   "outputs": [],
   "source": [
    "import csv\n",
    "from itertools import repeat\n",
    "import os\n",
    "import pandas as pd\n",
    "from pandas import read_csv, DataFrame, Index, MultiIndex\n",
    "import copy\n",
    "from IPython.display import display\n",
    "import numpy as np\n",
    "import collections\n",
    "from itertools import dropwhile\n",
    "import os\n",
    "from subprocess import call"
   ]
  },
  {
   "cell_type": "markdown",
   "metadata": {},
   "source": [
    "## - Set up Environment"
   ]
  },
  {
   "cell_type": "code",
   "execution_count": 2,
   "metadata": {
    "ExecuteTime": {
     "end_time": "2019-01-22T02:21:16.237364Z",
     "start_time": "2019-01-22T02:21:16.224033Z"
    }
   },
   "outputs": [],
   "source": [
    "#----------------------------#\n",
    "# Configure Environment\n",
    "#----------------------------#\n",
    "path = '/autofs/space/lilli_001/users'\n",
    "NARC = os.path.join('%s/DARPA-ARC_RER' % path)\n",
    "NARC_analysis = os.path.join('%s/DARPA-Scripts/tutorials/darpa_pipelines_EH/darpa_newARC_scripts/params' % path)\n",
    "\n",
    "transfer_scanlist=[]\n",
    "subject_list=[]\n",
    "\n",
    "unpack_log='unpack.log'\n",
    "raw_cfg= 'cfg_raw.txt'\n",
    "new_cfg='cfg.txt'\n",
    "\n",
    "#----------------------------#\n",
    "# Generate Step 1,2 C shells\n",
    "#----------------------------#\n",
    "# os.system('cd %s; touch subjlist.txt scan.txt unpacksdcmdir_step1.csh unpacksdcmdir_step2.csh' % NARC_analysis)"
   ]
  },
  {
   "cell_type": "markdown",
   "metadata": {},
   "source": [
    "## - Generate Subject and Scan lists"
   ]
  },
  {
   "cell_type": "code",
   "execution_count": 3,
   "metadata": {
    "ExecuteTime": {
     "end_time": "2019-01-22T02:21:26.642649Z",
     "start_time": "2019-01-22T02:21:26.611191Z"
    }
   },
   "outputs": [],
   "source": [
    "#----------------------------#\n",
    "# Import *ALL* scans from BOURGET\n",
    "#----------------------------#\n",
    "# Automatically generate FINDSESS.txt, subjlist.txt, scan.txt\n",
    "\n",
    "#os.system('findsession -p bfr > %s/FINDSESS.txt' % NARC_analysis)\n",
    "\n",
    "# def get_scans_subjects(path):\n",
    "#     with open('%s/FINDSESS.txt' % path ,'r') as in_txt, \\\n",
    "#         open('%s/subjlist.txt' % path ,'w') as sublist, \\\n",
    "#         open('%s/scan.txt' % path ,'w') as scanlist:\n",
    "#         for line in in_txt:\n",
    "#                 if 'SUBJECT' in line:\n",
    "#                     sub=line.strip('SUBJECT:  ')\n",
    "#                     sublist.write('%s \\n' % sub.strip())\n",
    "#                     subject_list.append(sub)\n",
    "#                 elif 'PATH' in line:\n",
    "#                     scan=line.strip('PATH   :')\n",
    "#                     scanlist.write('%s \\n' % scan.strip())\n",
    "#                     transfer_scanlist.append(sub)\n",
    "#     return\n",
    "#\n",
    "# get_scans_subjects(NARC)\n",
    "\n",
    "#----------------------------#\n",
    "# Import *SPECIFIC* scans from BOURGET\n",
    "#----------------------------#\n",
    "# Manually modify subjlist.txt, scan.txt\n",
    "\n",
    "def get_scans_subjects(analysis_path,scan_list,subjs_list):\n",
    "    with open('%s/subjlist.txt' % analysis_path ,'r') as sublist, \\\n",
    "    open('%s/scan.txt' % analysis_path ,'r') as scanlist:\n",
    "        for subject,scan in zip(sublist,scanlist):\n",
    "            subjs_list.append(subject.strip())\n",
    "            scan_list.append(scan.strip())\n",
    "    return\n",
    "\n",
    "get_scans_subjects(NARC_analysis,transfer_scanlist,subject_list)"
   ]
  },
  {
   "cell_type": "markdown",
   "metadata": {},
   "source": [
    "## - unpackdcmsdir - 1"
   ]
  },
  {
   "cell_type": "code",
   "execution_count": null,
   "metadata": {
    "ExecuteTime": {
     "end_time": "2019-01-22T01:10:12.849334Z",
     "start_time": "2019-01-22T01:10:12.837459Z"
    }
   },
   "outputs": [],
   "source": [
    "def unpacksdcmdir_step1(analysis_path,scan_list,subjs_list,raw_data_path):\n",
    "    with open('%s/unpacksdcmdir_step1.csh' % analysis_path ,'w') as unpacksdcmdir_1:\n",
    "        for scan,subject in zip(scan_list,subjs_list):\n",
    "            unpacksdcmdir_1.write('unpacksdcmdir -src %s -targ %s/%s -scanonly %s/%s/%s;\\n' \\\n",
    "            % (scan, raw_data_path, subject, raw_data_path, subject, new_cfg))\n",
    "        print \"Next: manually source unpacksdcmdir_step1.csh\"\n",
    "    return\n",
    "\n",
    "unpacksdcmdir_step1(NARC_analysis,transfer_scanlist,subject_list,NARC)"
   ]
  },
  {
   "cell_type": "code",
   "execution_count": null,
   "metadata": {
    "ExecuteTime": {
     "end_time": "2019-01-22T01:34:30.564229Z",
     "start_time": "2019-01-22T01:34:30.558034Z"
    }
   },
   "outputs": [],
   "source": [
    "#----------------------------#\n",
    "# Fix this cell to correctly \n",
    "# source FreeSurfer6\n",
    "#----------------------------#\n",
    "\n",
    "# prefix w/ ! OR %% bash\n",
    "\n",
    "# cd $lilli_001/DARPA-Scripts/tutorials/darpa_pipelines_EH/darpa_newARC_scripts/params; \\\n",
    "# step_1_path=`pwd`; \\\n",
    "# echo 'Changed directory to... ' `pwd`; \\\n",
    "# echo 'Sourcing FreeSurfer'; \\\n",
    "# set FREESURFER_HOME=/usr/local/freesurfer; \\\n",
    "# export SUBJECTS_DIR=$lilli_001/DARPA-Scripts/tutorials/darpa_pipelines_EH/darpa_newARC_scripts/; \\\n",
    "# source $FREESURFER_HOME/nmr-stable60-env\n",
    "# echo 'Sourcing unpacksdcmdir_step1.csh'; \\\n",
    "# echo ${step_1_path}/unpacksdcmdir_step1.csh; \\\n",
    "# echo 'Done: unpacksdcmdir_step1.csh';"
   ]
  },
  {
   "cell_type": "markdown",
   "metadata": {},
   "source": [
    "## - Create Configuration File"
   ]
  },
  {
   "cell_type": "code",
   "execution_count": 8,
   "metadata": {
    "ExecuteTime": {
     "end_time": "2019-01-22T02:23:49.177201Z",
     "start_time": "2019-01-22T02:23:49.149747Z"
    }
   },
   "outputs": [],
   "source": [
    "#----------------------------#\n",
    "# START HERE - DEBUG\n",
    "#----------------------------#\n",
    "\n",
    "x2={'a':[],'b':[],'c':[],'d':[]}\n",
    "def read_write_cfg(raw_data_path,subjs_list,unpack_log,raw_cfg): \n",
    "    for subject in subjs_list:\n",
    "        infile=os.path.join(raw_data_path,subject,unpack_log)\n",
    "        outfile=os.path.join(raw_data_path,subject,raw_cfg)\n",
    "        with open(infile,'r') as in_txt, open(outfile,'w') as out_txt:\n",
    "            for line in in_txt:\n",
    "                if 'ok' in line:\n",
    "                    c=line.strip().split()\n",
    "                    n=str(c[0])\n",
    "                    scan=str(c[1])\n",
    "                    num=str(c[7])\n",
    "                    x2['a'].append(n)\n",
    "                    nifti='NIFTI'\n",
    "                    x2['b'].append(scan)\n",
    "                    x2['c'].append(nifti)\n",
    "                    x2['d'].append(num)\n",
    "    return\n",
    "\n",
    "read_write_cfg(NARC,subject_list,unpack_log,raw_cfg)"
   ]
  },
  {
   "cell_type": "code",
   "execution_count": null,
   "metadata": {
    "collapsed": true
   },
   "outputs": [],
   "source": [
    "#----------------------------#\n",
    "# START HERE - DEBUG\n",
    "#----------------------------#\n",
    "\n",
    "def format_cfg(raw_data_path,subjs_list,raw_cfg,new_cfg):\n",
    "    for subject in subjs_list:\n",
    "        subdir = os.path.join(raw_data_path,\"%s/cfg.txt\" % subject.rstrip(' \\n'))\n",
    "        with open(subdir, 'w') as form_cfg:\n",
    "            for a,b,c,d in zip(x2['a'],x2['b'],x2['c'],x2['d']):\n",
    "                form_cfg.write('\\t'.join([a,b,c,d]) + '\\n')\n",
    "            print 'cfg.txt formatted in subject %s directory' % subject\n",
    "    return\n",
    "\n",
    "format_cfg(NARC,subject_list,raw_cfg,new_cfg)"
   ]
  },
  {
   "cell_type": "markdown",
   "metadata": {},
   "source": [
    "## - unpackdcmsdir - 2"
   ]
  },
  {
   "cell_type": "code",
   "execution_count": null,
   "metadata": {
    "ExecuteTime": {
     "end_time": "2018-10-02T22:15:56.127471Z",
     "start_time": "2018-10-02T22:15:56.102179Z"
    }
   },
   "outputs": [],
   "source": [
    "with open('%s/unpacksdcmdir_2.csh' % NARC ,'w') as unpacksdcmdir_2, \\\n",
    "open('%s/subjlist.txt' % NARC ,'r') as sublist:\n",
    "    subdir = os.path.join(NARC,\"%s/cfg.txt\" % subject.rstrip(' \\n'))\n",
    "    for scan,subject in zip(transfer_scanlist,sublist):        \n",
    "        unpacksdcmdir_2.write('unpacksdcmdir -src %s -targ %s/%s -fsfast -cfg %s \\n'\\\n",
    "        % (scan.rstrip(' \\n'), NARC.rstrip(' \\n'), subject.rstrip(' \\n'), subdir))\n",
    "    print \"Next: source unpacksdcmdir_2.csh\""
   ]
  },
  {
   "cell_type": "markdown",
   "metadata": {},
   "source": [
    "## APPENDIX / MISC"
   ]
  },
  {
   "cell_type": "markdown",
   "metadata": {},
   "source": [
    "### DICOM to NIFTI"
   ]
  },
  {
   "cell_type": "code",
   "execution_count": null,
   "metadata": {
    "collapsed": true
   },
   "outputs": [],
   "source": [
    "scan_list=['fieldmap_BOLD','AAScout', 'DIFFUSION_HighRes_REVISED', 'fieldmap_BOLD', \\\n",
    "           'fieldmap_generic_DTI', 'fMRI_ASSOCIATIVE_BOLD', 'fMRI_resting_state_1', \\\n",
    "           'fMRI_resting_state_2', 'fMRI_REWARD_BOLD', 'localizer', 'mprage_1mm_iso']\n",
    "\n",
    "output=[]\n",
    "\n",
    "def dicom2nii_get_path(path):\n",
    "    for subject in subject_list:\n",
    "        if subject in os.listdir(path):\n",
    "            for scan in scan_list:\n",
    "                if scan in os.listdir(os.path.join(path,subject)):\n",
    "                    insert=os.path.join(path, subject, scan)\n",
    "                    subdir=os.listdir(insert)\n",
    "                    for item in subdir:\n",
    "                        if item.startswith('0'):\n",
    "                            insert2=os.path.join(path, subject, scan, item)\n",
    "                            dicom1=os.listdir(insert2)[0]\n",
    "                            insert3=os.path.join(path, subject, scan, item, dicom1)\n",
    "                            save_me=output.append(insert3)  \n",
    "    return\n",
    "\n",
    "dicom2nii_get_path('/autofs/space/will_001/users/TLC/pilot_1st20subj/MGH/')"
   ]
  },
  {
   "cell_type": "markdown",
   "metadata": {
    "ExecuteTime": {
     "end_time": "2018-02-07T20:59:00.353068Z",
     "start_time": "2018-02-07T20:58:59.907128Z"
    }
   },
   "source": [
    "### Read Configuration File"
   ]
  },
  {
   "cell_type": "code",
   "execution_count": null,
   "metadata": {
    "ExecuteTime": {
     "end_time": "2018-02-07T22:05:48.631929Z",
     "start_time": "2018-02-07T22:05:48.607845Z"
    },
    "collapsed": true
   },
   "outputs": [],
   "source": [
    "def read_cfg(path,subjid,doc): \n",
    "    insert=os.path.join(path, subjid, doc)\n",
    "    doc=open(insert,'r' )\n",
    "    print doc.read()\n",
    "    \n",
    "read_cfg('/autofs/space/will_001/users/TLC/pilot_1st20subj/MGH/','020043MR01','unpack.log')"
   ]
  },
  {
   "cell_type": "markdown",
   "metadata": {},
   "source": [
    "### Read unpack.log and write cfg.txt file \n",
    "##### Note: Iterates through subjects txt file in lieu of array"
   ]
  },
  {
   "cell_type": "code",
   "execution_count": null,
   "metadata": {
    "collapsed": true
   },
   "outputs": [],
   "source": [
    "def iter_subjlist(path,subject_list,unpack_log,raw_cfg,new_cfg):\n",
    "    subjects=os.path.join(path,subject_list)\n",
    "    with open(subjects,'U') as slist:\n",
    "        for subject in slist: \n",
    "            subject=subject.strip().split()\n",
    "            print(subject)\n",
    "            read_write_cfg(path,subject,unpack_log,raw_cfg)\n",
    "            format_cfg(path,subject,raw_cfg,new_cfg)\n",
    "    return"
   ]
  },
  {
   "cell_type": "code",
   "execution_count": null,
   "metadata": {
    "collapsed": true
   },
   "outputs": [],
   "source": []
  }
 ],
 "metadata": {
  "kernelspec": {
   "display_name": "Python 2",
   "language": "python",
   "name": "python2"
  },
  "language_info": {
   "codemirror_mode": {
    "name": "ipython",
    "version": 2
   },
   "file_extension": ".py",
   "mimetype": "text/x-python",
   "name": "python",
   "nbconvert_exporter": "python",
   "pygments_lexer": "ipython2",
   "version": "2.7.13"
  },
  "toc": {
   "colors": {
    "hover_highlight": "#DAA520",
    "navigate_num": "#000000",
    "navigate_text": "#333333",
    "running_highlight": "#FF0000",
    "selected_highlight": "#FFD700",
    "sidebar_border": "#EEEEEE",
    "wrapper_background": "#FFFFFF"
   },
   "moveMenuLeft": true,
   "nav_menu": {
    "height": "187px",
    "width": "388px"
   },
   "navigate_menu": true,
   "number_sections": true,
   "sideBar": true,
   "threshold": 4,
   "toc_cell": false,
   "toc_section_display": "block",
   "toc_window_display": false,
   "widenNotebook": false
  }
 },
 "nbformat": 4,
 "nbformat_minor": 2
}
