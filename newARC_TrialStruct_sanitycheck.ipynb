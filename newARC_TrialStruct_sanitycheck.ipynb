{
 "cells": [
  {
   "cell_type": "code",
   "execution_count": null,
   "metadata": {},
   "outputs": [],
   "source": [
    "import pandas as pd\n",
    "\n",
    "df = pd.read_csv('ARC_trials_v3_mri.csv',index_col=False)\n",
    "df=pd.DataFrame(df)\n",
    "\n",
    "trial_1 = df.iloc[0:81]\n",
    "trial_2 = df.iloc[81:162]\n",
    "trial_3 = df.iloc[162::]\n",
    "\n",
    "block1_time_sec = sum(trial_1['ITI']+(5.25*81))\n",
    "block1_time_min = (sum(trial_1['ITI'])+(5.25*81))/60\n",
    "\n",
    "block2_time_sec = sum(trial_2['ITI'])+(5.25*81)\n",
    "block2_time_min = (sum(trial_2['ITI'])+(5.25*81))/60\n",
    "\n",
    "block3_time_sec = sum(trial_3['ITI'])+(5.25*81)\n",
    "block3_time_min = (sum(trial_3['ITI'])+(5.25*81))/60\n",
    "\n",
    "\n",
    "print 'Block 1 | ITI sum: %s' % sum(trial_1['ITI'])\n",
    "print '        | Total Block Time: %s sec (%s minutes)' % (block1_time_sec,block1_time_min)\n",
    "print '        | Risk sum: %s' % sum(trial_1['Risk'])\n",
    "print '        | reward sum: %s \\n' % sum(trial_1['Reward'])\n",
    "\n",
    "print 'Block 2 | ITI sum: %s' % sum(trial_2['ITI'])\n",
    "print '        | Total Block Time: %s sec (%s minutes)' % (block2_time_sec,block2_time_min)\n",
    "print '        | Risk sum: %s' % sum(trial_2['Risk'])\n",
    "print '        | Reward sum: %s \\n' % sum(trial_2['Reward'])\n",
    "\n",
    "print 'Block 3 | ITI sum: %s' % sum(trial_3['ITI'])\n",
    "print '        | Total Block Time: %s sec (%s minutes)' % (block3_time_sec,block3_time_min)\n",
    "print '        | Risk sum: %s' % sum(trial_3['Risk'])\n",
    "print '        | Reward sum: %s' % sum(trial_3['Reward'])\n",
    "\n",
    "\n",
    "# display(trial_1.head())\n",
    "# display(trial_2.head())\n",
    "# display(trial_3.head())\n",
    "\n",
    "# print trial_1['ITI'].value_counts()"
   ]
  },
  {
   "cell_type": "code",
   "execution_count": 5,
   "metadata": {
    "scrolled": false
   },
   "outputs": [
    {
     "name": "stdout",
     "output_type": "stream",
     "text": [
      "['hc015_ARC_eeg_block_3_2018_07_03_17_18_21.mat', 'hc014_ARC_eeg_block_2_2018_05_09_12_25_19.mat', 'hc013_ARC_eeg_block_1_2018_05_10_18_01_24.mat', 'hc005_ARC_mri_2018_04_22_10_54_02.mat', 'hc005_ARC_mri_2018_04_22_10_56_13.mat', 'hc017_ARC_eeg_block_1_2018_11_16_16_17_08.mat', 'hc003_ARC_eeg_2018_04_07_14_00_49.mat', 'hc014_ARC_mri_block_3_2018_05_06_10_40_37.mat', 'hc014_ARC_eeg_block_3_2018_05_09_12_33_11.mat', 'hc004_ARC_mri_2018_04_08_10_53_57.mat', 'hc010_ARC_eeg_block_2_2018_10_03_18_47_56.mat', 'hc009_ARC_mri_block_1_2018_05_05_10_43_23.mat', 'hc012_ARC_mri_block_1_2018_06_26_20_09_34.mat', 'hc007_ARC_mri_block_2_2018_04_28_10_01_54.mat', 'hc013_ARC_mri_block_3_2018_05_08_20_34_01.mat', 'hc019_ARC_mri_block_2_2018_12_04_20_52_02.mat', 'hc014_ARC_mri_block_2_2018_05_06_10_28_56.mat', 'hc013_ARC_mri_block_1_2018_05_08_19_59_37.mat', 'hc015_ARC_eeg_block_2_2018_07_03_17_11_21.mat', 'hc015_ARC_mri_block_2_2018_07_03_20_09_08.mat', 'hc012_ARC_eeg_block_1_2018_07_06_10_04_52.mat', 'hc012_ARC_mri_block_2_2018_06_26_20_21_35.mat', 'hc017_ARC_eeg_block_3_2018_11_16_16_34_40.mat', 'hc009_ARC_mri_block_2_2018_05_05_11_20_44.mat', 'hc019_ARC_mri_block_2_2019_01_04_11_11_41.mat', 'hc017_ARC_eeg_block_2_2018_11_16_16_28_04.mat', 'hc005_ARC_mri_2018_04_22_10_04_41.mat', 'hc011_ARC_mri_block_2_2018_11_20_20_14_20.mat', 'hc015_ARC_mri_block_3_2018_07_03_20_28_49.mat', 'hc012_ARC_mri_block_3_2018_06_26_20_35_19.mat', 'hc014_ARC_eeg_block_1_2018_05_09_12_18_20.mat', 'hc008_ARC_mri_block_2_2018_04_29_10_55_54.mat', 'hc017_ARC_mri_block_1_2018_11_06_19_55_01.mat', 'hc005_ARC_mri_2018_04_22_10_48_53.mat', 'hc016_ARC_eeg_block_2_2018_10_04_19_50_09.mat', 'hc010_ARC_mri_block_2_2018_05_29_21_11_02.mat', 'hc010_ARC_mri_block_3_2018_05_29_21_24_14.mat', 'hc009_ARC_eeg_block_3_2018_05_16_15_42_38.mat', 'hc009_ARC_mri_block_2_2018_05_05_10_58_33.mat', 'hc010_ARC_eeg_block_3_2018_10_03_18_54_16.mat', 'hc011_ARC_mri_block_3_2018_11_20_20_26_15.mat', 'hc011_ARC_mri_block_1_2018_11_20_20_02_19.mat', 'hc005_ARC_mri_2018_04_22_10_33_36.mat', 'hc019_ARC_mri_block_1_2018_12_04_20_40_25.mat', 'hc016_ARC_eeg_block_1_2018_10_04_19_43_17.mat', 'hc007_ARC_mri_block_1_2018_04_28_09_47_32.mat', 'hc009_ARC_eeg_block_2_2018_05_16_15_35_32.mat', 'hc008_ARC_eeg_block_1_2018_04_29_12_34_44.mat', 'hc016_ARC_eeg_block_3_2018_10_04_19_57_40.mat', 'hc005_ARC_eeg_2018_04_22_12_26_44.mat', 'hc013_ARC_mri_block_2_2018_05_08_20_18_49.mat', 'hc008_ARC_eeg_block_3_2018_04_29_12_48_18.mat', 'hc010_ARC_eeg_block_1_2018_10_03_18_41_05.mat', 'hc003_ARC_mri_2018_04_07_10_52_46.mat', 'hc007_ARC_eeg_block_3_2018_04_28_12_10_06.mat', 'hc014_ARC_mri_block_1_2018_05_06_10_15_35.mat', 'hc007_ARC_eeg_block_2_2018_04_28_12_02_54.mat', 'hc008_ARC_eeg_block_2_2018_04_29_12_41_09.mat', 'hc015_ARC_mri_block_1_2018_07_03_19_54_02.mat', 'hc008_ARC_mri_block_3_2018_04_29_11_07_24.mat', 'hc010_ARC_mri_block_1_2018_05_29_20_55_08.mat', 'hc012_ARC_eeg_block_2_2018_07_06_10_13_53.mat', 'hc019_ARC_mri_block_1_2019_01_04_10_59_45.mat', 'hc009_ARC_mri_block_3_2018_05_05_11_32_51.mat', 'hc017_ARC_mri_block_3_2018_11_06_20_33_38.mat', 'hc010_ARC_mri_block_1_2018_05_29_20_34_18.mat', 'hc007_ARC_mri_block_3_2018_04_28_10_20_03.mat', 'hc012_ARC_eeg_block_3_2018_07_06_10_20_21.mat', 'hc007_ARC_eeg_block_1_2018_04_28_11_55_39.mat', 'hc001_ARC_mri_2018_01_13_09_35_25.mat', 'hc004_ARC_eeg_2018_04_08_13_28_24.mat', 'hc013_ARC_eeg_block_2_2018_05_10_18_09_01.mat', 'hc019_ARC_mri_block_3_2019_01_04_11_24_03.mat', 'hc008_ARC_mri_block_1_2018_04_29_10_44_10.mat', 'hc019_ARC_mri_block_3_2018_12_04_21_17_03.mat', 'hc003_ARC_mri_2018_04_07_10_37_44.mat', 'hc015_ARC_eeg_block_1_2018_07_03_17_04_21.mat', 'hc013_ARC_eeg_block_3_2018_05_10_18_15_41.mat', 'hc009_ARC_eeg_block_1_2018_05_16_15_28_59.mat']\n"
     ]
    }
   ],
   "source": [
    "import os\n",
    "import pandas as pd\n",
    "import numpy as np\n",
    "# import tables\n",
    "\n",
    "dir='/Users/emilyhahn/projects/newARC/behavior/raw'\n",
    "\n",
    "sub_list=[]\n",
    "sub_files_list=[]\n",
    "\n",
    "for root, dirs, files in os.walk(dir, topdown=False):\n",
    "    for name in files:\n",
    "        sub_list.append(name)\n",
    "        sub_files_list.append(name)\n",
    "        \n",
    "print sub_files_list\n",
    "        \n",
    "# df=pd.DataFrame()\n",
    "\n",
    "# for sub,csv in zip(sub_list,sub_files_list):\n",
    "#     d=os.path.join(dir,csv)\n",
    "#     behavior=pd.read_csv(d)\n",
    "#     print behavior    "
   ]
  },
  {
   "cell_type": "code",
   "execution_count": 1,
   "metadata": {},
   "outputs": [],
   "source": [
    "import os\n",
    "import pandas as pd\n",
    "import numpy as np\n",
    "# import tables\n",
    "\n",
    "dir='/Users/emilyhahn/projects/newARC/behavior/preprocessed'\n",
    "\n",
    "sub_list=[]\n",
    "sub_files_list=[]\n",
    "\n",
    "for root, dirs, files in os.walk(dir, topdown=False):\n",
    "    for name in files:\n",
    "        sub_list.append(name[:5])\n",
    "        sub_files_list.append(name)\n",
    "\n",
    "for sub,csv in zip(sub_list,sub_files_list):\n",
    "    print sub\n",
    "#     d=os.path.join(dir,csv)\n",
    "#     df=pd.read_csv(d)\n",
    "#     print df['ConflictType']"
   ]
  },
  {
   "cell_type": "code",
   "execution_count": null,
   "metadata": {},
   "outputs": [],
   "source": []
  }
 ],
 "metadata": {
  "kernelspec": {
   "display_name": "Python 2",
   "language": "python",
   "name": "python2"
  },
  "language_info": {
   "codemirror_mode": {
    "name": "ipython",
    "version": 2
   },
   "file_extension": ".py",
   "mimetype": "text/x-python",
   "name": "python",
   "nbconvert_exporter": "python",
   "pygments_lexer": "ipython2",
   "version": "2.7.13"
  }
 },
 "nbformat": 4,
 "nbformat_minor": 2
}
