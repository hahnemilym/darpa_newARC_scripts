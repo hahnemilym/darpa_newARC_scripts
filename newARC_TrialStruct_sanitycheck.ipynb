{
 "cells": [
  {
   "cell_type": "code",
   "execution_count": 1,
   "metadata": {},
   "outputs": [],
   "source": [
    "import pandas as pd\n",
    "import os\n",
    "import numpy as np\n",
    "# import tables"
   ]
  },
  {
   "cell_type": "code",
   "execution_count": null,
   "metadata": {},
   "outputs": [],
   "source": [
    "df = pd.read_csv('ARC_trials_v3_mri.csv',index_col=False)\n",
    "df=pd.DataFrame(df)\n",
    "\n",
    "trial_1 = df.iloc[0:81]\n",
    "trial_2 = df.iloc[81:162]\n",
    "trial_3 = df.iloc[162::]\n",
    "\n",
    "block1_time_sec = sum(trial_1['ITI']+(5.25*81))\n",
    "block1_time_min = (sum(trial_1['ITI'])+(5.25*81))/60\n",
    "\n",
    "block2_time_sec = sum(trial_2['ITI'])+(5.25*81)\n",
    "block2_time_min = (sum(trial_2['ITI'])+(5.25*81))/60\n",
    "\n",
    "block3_time_sec = sum(trial_3['ITI'])+(5.25*81)\n",
    "block3_time_min = (sum(trial_3['ITI'])+(5.25*81))/60\n",
    "\n",
    "\n",
    "print 'Block 1 | ITI sum: %s' % sum(trial_1['ITI'])\n",
    "print '        | Total Block Time: %s sec (%s minutes)' % (block1_time_sec,block1_time_min)\n",
    "print '        | Risk sum: %s' % sum(trial_1['Risk'])\n",
    "print '        | reward sum: %s \\n' % sum(trial_1['Reward'])\n",
    "\n",
    "print 'Block 2 | ITI sum: %s' % sum(trial_2['ITI'])\n",
    "print '        | Total Block Time: %s sec (%s minutes)' % (block2_time_sec,block2_time_min)\n",
    "print '        | Risk sum: %s' % sum(trial_2['Risk'])\n",
    "print '        | Reward sum: %s \\n' % sum(trial_2['Reward'])\n",
    "\n",
    "print 'Block 3 | ITI sum: %s' % sum(trial_3['ITI'])\n",
    "print '        | Total Block Time: %s sec (%s minutes)' % (block3_time_sec,block3_time_min)\n",
    "print '        | Risk sum: %s' % sum(trial_3['Risk'])\n",
    "print '        | Reward sum: %s' % sum(trial_3['Reward'])\n",
    "\n",
    "\n",
    "# display(trial_1.head())\n",
    "# display(trial_2.head())\n",
    "# display(trial_3.head())\n",
    "\n",
    "# print trial_1['ITI'].value_counts()"
   ]
  },
  {
   "cell_type": "code",
   "execution_count": null,
   "metadata": {
    "scrolled": false
   },
   "outputs": [],
   "source": [
    "## Generate subject list for mat2csv\n",
    "\n",
    "raw_dir='/Users/emilyhahn/projects/newARC/behavior/params_raw/'\n",
    "\n",
    "sub_mat_list=[]\n",
    "\n",
    "for root, dirs, files in os.walk(raw_dir, topdown=False):\n",
    "    for name in files:\n",
    "        sub_mat_list.append(name) \n",
    "        \n",
    "print sub_mat_list"
   ]
  },
  {
   "cell_type": "code",
   "execution_count": 2,
   "metadata": {},
   "outputs": [
    {
     "name": "stdout",
     "output_type": "stream",
     "text": [
      "OLD sub_csv list: \n",
      " 79\n",
      "hc005_ARC_mri_2018_04_22_10_48_53.csv missing column: ShockOnset\n",
      "\n",
      "hc017_ARC_mri_block_1_2018_11_06_19_55_01.csv missing column: FixOnset\n",
      "\n",
      "hc017_ARC_mri_block_1_2018_11_06_19_55_01.csv missing column: RiskOnset\n",
      "\n",
      "hc017_ARC_mri_block_1_2018_11_06_19_55_01.csv missing column: RewardOnset\n",
      "\n",
      "hc017_ARC_mri_block_1_2018_11_06_19_55_01.csv missing column: ResponseType\n",
      "\n",
      "hc017_ARC_mri_block_1_2018_11_06_19_55_01.csv missing column: ResponseOnset\n",
      "\n",
      "hc017_ARC_mri_block_1_2018_11_06_19_55_01.csv missing column: ResponseTime\n",
      "\n",
      "hc017_ARC_mri_block_1_2018_11_06_19_55_01.csv missing column: ResponseUncertainty\n",
      "\n",
      "hc017_ARC_mri_block_1_2018_11_06_19_55_01.csv missing column: ResultOnset\n",
      "\n",
      "hc017_ARC_mri_block_1_2018_11_06_19_55_01.csv missing column: ShockOnset\n",
      "\n",
      "hc010_ARC_mri_block_1_2018_05_29_20_34_18.csv missing column: ShockOnset\n",
      "\n",
      "hc005_ARC_mri_2018_04_22_10_54_02.csv missing column: ShockOnset\n",
      "\n",
      "length of subjs_missing_cols: 12 \n",
      "\n",
      "NEW sub_csv list: \n",
      " 75\n"
     ]
    }
   ],
   "source": [
    "## review csv files\n",
    "\n",
    "dir='/Users/emilyhahn/projects/newARC/behavior/preprocessed/'\n",
    "\n",
    "sub_list=[]\n",
    "sub_csv_list=[]\n",
    "subjs_missing_cols=[]\n",
    "subjs_missing_cols_csv=[]\n",
    "missing_cols=[]\n",
    "\n",
    "col_list=['ConflictType','ITI','Reward',\\\n",
    "'Risk','Trial','TimeType','RiskType','RewardType','Shock','LeftKey',\\\n",
    "'FixOnset','RiskOnset','RewardOnset','ResponseType','ResponseOnset', \\\n",
    "'ResponseTime', 'ResponseUncertainty','ResultOnset','ShockOnset']\n",
    "                \n",
    "for root, dirs, files in os.walk(dir, topdown=False):\n",
    "    for name in files:\n",
    "        sub_list.append(name[:5])\n",
    "        sub_csv_list.append(name)\n",
    "        \n",
    "for csv in sub_csv_list:\n",
    "    d=os.path.join(dir,csv)\n",
    "    df_x=pd.read_csv(d,index_col=None)\n",
    "    df=pd.DataFrame(df_x)\n",
    "    for col in col_list:\n",
    "        ## Detect missing columns\n",
    "        if col not in df.columns and 'eeg' not in csv:\n",
    "            subjs_missing_cols.append('%s' % csv)\n",
    "            subjs_missing_cols_csv.append('%s missing column: %s\\n' % (csv,col))\n",
    "\n",
    "## Refine sub_csv_list\n",
    "for i in subjs_missing_cols:\n",
    "    if i in sub_csv_list:\n",
    "        sub_csv_list.remove(i)\n",
    "        \n",
    "for csv in sub_csv_list:\n",
    "    d=os.path.join(dir,csv)\n",
    "    df_x=pd.read_csv(d,index_col=None)\n",
    "    df=pd.DataFrame(df_x)\n",
    "    trial_1 = df.iloc[0:81]\n",
    "    trial_2 = df.iloc[81:162]\n",
    "    trial_3 = df.iloc[162::]"
   ]
  },
  {
   "cell_type": "code",
   "execution_count": null,
   "metadata": {},
   "outputs": [],
   "source": []
  },
  {
   "cell_type": "code",
   "execution_count": null,
   "metadata": {},
   "outputs": [],
   "source": []
  }
 ],
 "metadata": {
  "kernelspec": {
   "display_name": "Python 2",
   "language": "python",
   "name": "python2"
  },
  "language_info": {
   "codemirror_mode": {
    "name": "ipython",
    "version": 2
   },
   "file_extension": ".py",
   "mimetype": "text/x-python",
   "name": "python",
   "nbconvert_exporter": "python",
   "pygments_lexer": "ipython2",
   "version": "2.7.13"
  }
 },
 "nbformat": 4,
 "nbformat_minor": 2
}
